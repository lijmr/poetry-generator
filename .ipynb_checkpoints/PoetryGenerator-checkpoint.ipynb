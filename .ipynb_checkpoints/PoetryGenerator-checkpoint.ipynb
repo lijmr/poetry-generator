{
 "cells": [
  {
   "cell_type": "markdown",
   "id": "1b38c89d",
   "metadata": {},
   "source": [
    "# NLP Poetry Generator #"
   ]
  },
  {
   "cell_type": "markdown",
   "id": "1dfeb88f",
   "metadata": {},
   "source": [
    "## Import Files & APIs ##"
   ]
  },
  {
   "cell_type": "code",
   "execution_count": 1,
   "id": "8bec3a94",
   "metadata": {},
   "outputs": [
    {
     "name": "stdout",
     "output_type": "stream",
     "text": [
      "File 'robert_frost.txt' already there; not retrieving.\n",
      "\n",
      "File 'edgar_allan_poe.txt' already there; not retrieving.\n",
      "\n"
     ]
    }
   ],
   "source": [
    "!wget -nc https://raw.githubusercontent.com/lazyprogrammer/machine_learning_examples/master/hmm_class/robert_frost.txt\n",
    "!wget -nc https://raw.githubusercontent.com/lazyprogrammer/machine_learning_examples/master/hmm_class/edgar_allan_poe.txt"
   ]
  },
  {
   "cell_type": "code",
   "execution_count": 2,
   "id": "dce3d7f7",
   "metadata": {},
   "outputs": [],
   "source": [
    "import numpy as np\n",
    "import string\n",
    "\n",
    "np.random.seed(1234)"
   ]
  },
  {
   "cell_type": "code",
   "execution_count": 3,
   "id": "8b8eab44",
   "metadata": {},
   "outputs": [
    {
     "name": "stdout",
     "output_type": "stream",
     "text": [
      "Two roads diverged in a yellow wood,\r\n",
      "And sorry I could not travel both\r\n",
      "And be one traveler, long I stood\r\n",
      "And looked down one as far as I could\r\n",
      "To where it bent in the undergrowth; \r\n",
      "\r\n",
      "Then took the other, as just as fair,\r\n",
      "And having perhaps the better claim\r\n",
      "Because it was grassy and wanted wear,\r\n",
      "Though as for that the passing there\r\n"
     ]
    }
   ],
   "source": [
    "!head robert_frost.txt"
   ]
  },
  {
   "cell_type": "code",
   "execution_count": 4,
   "id": "55b4a20a",
   "metadata": {},
   "outputs": [
    {
     "name": "stdout",
     "output_type": "stream",
     "text": [
      "LO! Death hath rear'd himself a throne\r\n",
      "In a strange city, all alone,\r\n",
      "Far down within the dim west\r\n",
      "Where the good, and the bad, and the worst, and the best,\r\n",
      "Have gone to their eternal rest.\r\n",
      " \r\n",
      "There shrines, and palaces, and towers\r\n",
      "Are not like any thing of ours\r\n",
      "Oh no! O no! ours never loom\r\n",
      "To heaven with that ungodly gloom!\r\n"
     ]
    }
   ],
   "source": [
    "!head edgar_allan_poe.txt"
   ]
  },
  {
   "cell_type": "markdown",
   "id": "c273966c",
   "metadata": {},
   "source": [
    "## Data Cleaning & Preparation ##"
   ]
  },
  {
   "cell_type": "code",
   "execution_count": 5,
   "id": "0ee5bd78",
   "metadata": {},
   "outputs": [],
   "source": [
    "samples_list = []\n",
    "for line in open(\"robert_frost.txt\", \"r\"):\n",
    "    line = line.rstrip().lower()\n",
    "    if line:\n",
    "        line = line.translate(str.maketrans('', '', string.punctuation))\n",
    "        samples_list.append(line)"
   ]
  },
  {
   "cell_type": "code",
   "execution_count": 6,
   "id": "78182c24",
   "metadata": {},
   "outputs": [
    {
     "data": {
      "text/plain": [
       "['two roads diverged in a yellow wood',\n",
       " 'and sorry i could not travel both',\n",
       " 'and be one traveler long i stood',\n",
       " 'and looked down one as far as i could',\n",
       " 'to where it bent in the undergrowth']"
      ]
     },
     "execution_count": 6,
     "metadata": {},
     "output_type": "execute_result"
    }
   ],
   "source": [
    "samples_list[:5]"
   ]
  },
  {
   "cell_type": "markdown",
   "id": "bed2ef5d",
   "metadata": {},
   "source": [
    "## Train Data Using Markov Models ##"
   ]
  },
  {
   "cell_type": "code",
   "execution_count": 7,
   "id": "4d7443ae",
   "metadata": {},
   "outputs": [],
   "source": [
    "# Dictionaries for initial state distributions and state transition matrices\n",
    "initial = {}\n",
    "first_order = {}\n",
    "second_order = {}"
   ]
  },
  {
   "cell_type": "code",
   "execution_count": 8,
   "id": "66e8f8f5",
   "metadata": {},
   "outputs": [],
   "source": [
    "# Create dictionaries to store initial state distributions, first-order transitions, and second-order transitions\n",
    "for line in samples_list:\n",
    "    prev_word_1 = None\n",
    "    prev_word_2 = None\n",
    "    tokens = line.split()\n",
    "    tokens.append(\"END\")\n",
    "    for word in tokens:\n",
    "        if prev_word_1 == None:\n",
    "            # Initial state distribution\n",
    "            initial[word] = initial.get(word, 0) + 1\n",
    "            prev_word_1 = word\n",
    "        elif prev_word_2 == None:\n",
    "            # First-order transition matrix\n",
    "            if prev_word_1 not in first_order:\n",
    "                first_order[prev_word_1] = {}\n",
    "            \n",
    "            first_order[prev_word_1][word] = first_order[prev_word_1].get(word, 0) + 1\n",
    "            prev_word_2 = prev_word_1\n",
    "            prev_word_1 = word\n",
    "        else:\n",
    "            # Second-order transition matrix\n",
    "            if prev_word_2 not in second_order:\n",
    "                second_order[prev_word_2] = {}\n",
    "            if prev_word_1 not in second_order[prev_word_2]:\n",
    "                second_order[prev_word_2][prev_word_1] = {}\n",
    "            \n",
    "            second_order[prev_word_2][prev_word_1][word] = second_order[prev_word_2][prev_word_1].get(word, 0) + 1\n",
    "            prev_word_2 = prev_word_1\n",
    "            prev_word_1 = word"
   ]
  },
  {
   "cell_type": "code",
   "execution_count": 9,
   "id": "37569163",
   "metadata": {},
   "outputs": [],
   "source": [
    "# Normalize initial\n",
    "initial_vals_sum = sum(initial.values())\n",
    "for word in initial:\n",
    "    initial[word] /= initial_vals_sum\n",
    "\n",
    "# Normalize first_order\n",
    "for prev_word_1 in first_order:\n",
    "    prev_word_1_sum = sum(first_order[prev_word_1].values())\n",
    "    for word in first_order[prev_word_1]:\n",
    "        first_order[prev_word_1][word] /= prev_word_1_sum\n",
    "\n",
    "# Normalize second_order\n",
    "for prev_word_2 in second_order:\n",
    "    for prev_word_1 in second_order[prev_word_2]:\n",
    "        prev_word_1_sum = sum(second_order[prev_word_2][prev_word_1].values())\n",
    "        for word in second_order[prev_word_2][prev_word_1]:\n",
    "            second_order[prev_word_2][prev_word_1][word] /= prev_word_1_sum"
   ]
  },
  {
   "cell_type": "markdown",
   "id": "40a9a1c3",
   "metadata": {},
   "source": [
    "## Build Poetry Generator ##"
   ]
  },
  {
   "cell_type": "code",
   "execution_count": 10,
   "id": "a6ceaa7c",
   "metadata": {},
   "outputs": [],
   "source": [
    "class PoetryGenerator:\n",
    "    def __init__(self, initial, first_order, second_order):\n",
    "        self.initial = initial\n",
    "        self.first_order = first_order\n",
    "        self.second_order = second_order\n",
    "    \n",
    "    def _find_next_word(self, dictionary):\n",
    "        sample = np.random.random()\n",
    "        cumulative_prob = 0\n",
    "        for word, prob in dictionary.items():\n",
    "            cumulative_prob += prob\n",
    "            if cumulative_prob > sample:\n",
    "                return word\n",
    "        assert(False)\n",
    "    \n",
    "    def generatePoem(self, num_lines):\n",
    "        for i in range(num_lines):\n",
    "            new_line = []\n",
    "            new_word = None\n",
    "            j = 0\n",
    "            while new_word != \"END\":\n",
    "                if len(new_line) <= 1:\n",
    "                    dict_to_use = initial if new_word == None else first_order[new_line[0]]\n",
    "                    new_word = self._find_next_word(dict_to_use)\n",
    "                else:\n",
    "                    new_word = self._find_next_word(second_order[new_line[j - 2]][new_line[j - 1]])\n",
    "                j += 1\n",
    "                new_line.append(new_word)\n",
    "            print(\" \".join(new_line[:-1]))"
   ]
  },
  {
   "cell_type": "markdown",
   "id": "0bf52f1d",
   "metadata": {},
   "source": [
    "## Generate Poetry ##"
   ]
  },
  {
   "cell_type": "code",
   "execution_count": 11,
   "id": "5bcdce66",
   "metadata": {},
   "outputs": [],
   "source": [
    "pg = PoetryGenerator(initial, first_order, second_order)"
   ]
  },
  {
   "cell_type": "code",
   "execution_count": 12,
   "id": "f7feada3",
   "metadata": {
    "scrolled": false
   },
   "outputs": [
    {
     "name": "stdout",
     "output_type": "stream",
     "text": [
      "i went to bed alone and left me\n",
      "might just as empty\n",
      "but it isnt as if and thats not all the money goes so fast\n",
      "you couldnt call it living for it aint\n"
     ]
    }
   ],
   "source": [
    "pg.generatePoem(4)"
   ]
  },
  {
   "cell_type": "code",
   "execution_count": null,
   "id": "d29e830e",
   "metadata": {},
   "outputs": [],
   "source": []
  }
 ],
 "metadata": {
  "kernelspec": {
   "display_name": "Python 3 (ipykernel)",
   "language": "python",
   "name": "python3"
  },
  "language_info": {
   "codemirror_mode": {
    "name": "ipython",
    "version": 3
   },
   "file_extension": ".py",
   "mimetype": "text/x-python",
   "name": "python",
   "nbconvert_exporter": "python",
   "pygments_lexer": "ipython3",
   "version": "3.8.8"
  }
 },
 "nbformat": 4,
 "nbformat_minor": 5
}
